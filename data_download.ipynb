{
 "cells": [
  {
   "cell_type": "code",
   "execution_count": null,
   "metadata": {},
   "outputs": [],
   "source": [
    "import requests\n",
    "import json\n",
    "import time\n",
    "import datetime"
   ]
  },
  {
   "cell_type": "code",
   "execution_count": null,
   "metadata": {},
   "outputs": [],
   "source": [
    "def fetch_replays(before):\n",
    "    url = 'https://wank.wavu.wiki/api/replays?before={before}'\n",
    "    response = requests.get(url.format(before=before))\n",
    "    data = response.json()\n",
    "    # print('Data', data)\n",
    "    return data"
   ]
  },
  {
   "cell_type": "code",
   "execution_count": null,
   "metadata": {},
   "outputs": [],
   "source": [
    "start_of_day = datetime.datetime.now(datetime.UTC).timestamp()\n",
    "print(start_of_day)\n",
    "\n",
    "start_of_day = datetime.datetime.now(datetime.timezone.utc).replace(hour=0, minute=0, second=0, microsecond=0).timestamp()\n",
    "print(start_of_day)"
   ]
  },
  {
   "cell_type": "code",
   "execution_count": null,
   "metadata": {},
   "outputs": [],
   "source": [
    "start_of_day = datetime.datetime.now(datetime.timezone.utc).replace(hour=0, minute=0, second=0, microsecond=0).timestamp()\n",
    "start_time = int(start_of_day)\n",
    "curr_time = start_time\n",
    "matches = []\n",
    "count = 0\n",
    "while curr_time > 1718150400 and count < 4000:\n",
    "    count += 1\n",
    "    print('count is', count)\n",
    "    print('curr_time is', curr_time)\n",
    "    print('which is', datetime.datetime.fromtimestamp(curr_time, datetime.UTC))\n",
    "    \n",
    "    try:\n",
    "        matches.extend(fetch_replays(curr_time))\n",
    "    except Exception as e:\n",
    "        print(\"Error\", e)\n",
    "\n",
    "    # wait for 1 second\n",
    "    time.sleep(0.7)\n",
    "\n",
    "    if curr_time == matches[-1]['battle_at']:\n",
    "        print('No more matches')\n",
    "        break\n",
    "    curr_time = matches[-1]['battle_at']\n",
    "\n",
    "    if (start_time - curr_time) > 86400:\n",
    "        with open(f'./output/matches_{datetime.datetime.fromtimestamp(start_time, datetime.UTC).date()}.json', 'w') as file:\n",
    "            json.dump(matches, file)\n",
    "        matches = []\n",
    "        start_time = curr_time\n",
    "\n",
    "    \n",
    "\n",
    "with open(f'./output/matches_{datetime.datetime.fromtimestamp(curr_time, datetime.UTC).date()}.json', 'w') as file:\n",
    "    json.dump(matches, file)"
   ]
  },
  {
   "cell_type": "code",
   "execution_count": null,
   "metadata": {},
   "outputs": [],
   "source": []
  }
 ],
 "metadata": {
  "kernelspec": {
   "display_name": "ce-Ab_wKMWK-py3.12",
   "language": "python",
   "name": "python3"
  },
  "language_info": {
   "codemirror_mode": {
    "name": "ipython",
    "version": 3
   },
   "file_extension": ".py",
   "mimetype": "text/x-python",
   "name": "python",
   "nbconvert_exporter": "python",
   "pygments_lexer": "ipython3",
   "version": "3.12.4"
  }
 },
 "nbformat": 4,
 "nbformat_minor": 2
}
